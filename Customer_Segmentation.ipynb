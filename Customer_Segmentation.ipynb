{
 "cells": [
  {
   "cell_type": "markdown",
   "id": "86a67891",
   "metadata": {},
   "source": [
    "# Online Retail Customer Segmentation\n",
    "\n",
    "#### By utilizing SQL for ETL processes and visualization through matplotlib, this exercise aims to provide insights on consumer purchasing behaviour, analysis of key retail sales drivers and product performance relative to each other. "
   ]
  },
  {
   "cell_type": "code",
   "execution_count": 1,
   "id": "0316704d",
   "metadata": {},
   "outputs": [],
   "source": [
    "# import libraries\n",
    "\n",
    "import pandas as pd\n",
    "import numpy as np\n",
    "import sqlite3\n",
    "import seaborn as sns\n",
    "import matplotlib.pyplot as plt"
   ]
  },
  {
   "cell_type": "code",
   "execution_count": 2,
   "id": "beb67686",
   "metadata": {
    "scrolled": true
   },
   "outputs": [
    {
     "data": {
      "text/html": [
       "<div>\n",
       "<style scoped>\n",
       "    .dataframe tbody tr th:only-of-type {\n",
       "        vertical-align: middle;\n",
       "    }\n",
       "\n",
       "    .dataframe tbody tr th {\n",
       "        vertical-align: top;\n",
       "    }\n",
       "\n",
       "    .dataframe thead th {\n",
       "        text-align: right;\n",
       "    }\n",
       "</style>\n",
       "<table border=\"1\" class=\"dataframe\">\n",
       "  <thead>\n",
       "    <tr style=\"text-align: right;\">\n",
       "      <th></th>\n",
       "      <th>InvoiceNo</th>\n",
       "      <th>StockCode</th>\n",
       "      <th>Description</th>\n",
       "      <th>Quantity</th>\n",
       "      <th>InvoiceDate</th>\n",
       "      <th>UnitPrice</th>\n",
       "      <th>CustomerID</th>\n",
       "      <th>Country</th>\n",
       "    </tr>\n",
       "  </thead>\n",
       "  <tbody>\n",
       "    <tr>\n",
       "      <th>0</th>\n",
       "      <td>536365</td>\n",
       "      <td>85123A</td>\n",
       "      <td>WHITE HANGING HEART T-LIGHT HOLDER</td>\n",
       "      <td>6</td>\n",
       "      <td>1/12/2010 8:26</td>\n",
       "      <td>2.55</td>\n",
       "      <td>17850.0</td>\n",
       "      <td>United Kingdom</td>\n",
       "    </tr>\n",
       "    <tr>\n",
       "      <th>1</th>\n",
       "      <td>536365</td>\n",
       "      <td>71053</td>\n",
       "      <td>WHITE METAL LANTERN</td>\n",
       "      <td>6</td>\n",
       "      <td>1/12/2010 8:26</td>\n",
       "      <td>3.39</td>\n",
       "      <td>17850.0</td>\n",
       "      <td>United Kingdom</td>\n",
       "    </tr>\n",
       "    <tr>\n",
       "      <th>2</th>\n",
       "      <td>536365</td>\n",
       "      <td>84406B</td>\n",
       "      <td>CREAM CUPID HEARTS COAT HANGER</td>\n",
       "      <td>8</td>\n",
       "      <td>1/12/2010 8:26</td>\n",
       "      <td>2.75</td>\n",
       "      <td>17850.0</td>\n",
       "      <td>United Kingdom</td>\n",
       "    </tr>\n",
       "    <tr>\n",
       "      <th>3</th>\n",
       "      <td>536365</td>\n",
       "      <td>84029G</td>\n",
       "      <td>KNITTED UNION FLAG HOT WATER BOTTLE</td>\n",
       "      <td>6</td>\n",
       "      <td>1/12/2010 8:26</td>\n",
       "      <td>3.39</td>\n",
       "      <td>17850.0</td>\n",
       "      <td>United Kingdom</td>\n",
       "    </tr>\n",
       "    <tr>\n",
       "      <th>4</th>\n",
       "      <td>536365</td>\n",
       "      <td>84029E</td>\n",
       "      <td>RED WOOLLY HOTTIE WHITE HEART.</td>\n",
       "      <td>6</td>\n",
       "      <td>1/12/2010 8:26</td>\n",
       "      <td>3.39</td>\n",
       "      <td>17850.0</td>\n",
       "      <td>United Kingdom</td>\n",
       "    </tr>\n",
       "    <tr>\n",
       "      <th>...</th>\n",
       "      <td>...</td>\n",
       "      <td>...</td>\n",
       "      <td>...</td>\n",
       "      <td>...</td>\n",
       "      <td>...</td>\n",
       "      <td>...</td>\n",
       "      <td>...</td>\n",
       "      <td>...</td>\n",
       "    </tr>\n",
       "    <tr>\n",
       "      <th>541904</th>\n",
       "      <td>581587</td>\n",
       "      <td>22613</td>\n",
       "      <td>PACK OF 20 SPACEBOY NAPKINS</td>\n",
       "      <td>12</td>\n",
       "      <td>9/12/2011 12:50</td>\n",
       "      <td>0.85</td>\n",
       "      <td>12680.0</td>\n",
       "      <td>France</td>\n",
       "    </tr>\n",
       "    <tr>\n",
       "      <th>541905</th>\n",
       "      <td>581587</td>\n",
       "      <td>22899</td>\n",
       "      <td>CHILDREN'S APRON DOLLY GIRL</td>\n",
       "      <td>6</td>\n",
       "      <td>9/12/2011 12:50</td>\n",
       "      <td>2.10</td>\n",
       "      <td>12680.0</td>\n",
       "      <td>France</td>\n",
       "    </tr>\n",
       "    <tr>\n",
       "      <th>541906</th>\n",
       "      <td>581587</td>\n",
       "      <td>23254</td>\n",
       "      <td>CHILDRENS CUTLERY DOLLY GIRL</td>\n",
       "      <td>4</td>\n",
       "      <td>9/12/2011 12:50</td>\n",
       "      <td>4.15</td>\n",
       "      <td>12680.0</td>\n",
       "      <td>France</td>\n",
       "    </tr>\n",
       "    <tr>\n",
       "      <th>541907</th>\n",
       "      <td>581587</td>\n",
       "      <td>23255</td>\n",
       "      <td>CHILDRENS CUTLERY CIRCUS PARADE</td>\n",
       "      <td>4</td>\n",
       "      <td>9/12/2011 12:50</td>\n",
       "      <td>4.15</td>\n",
       "      <td>12680.0</td>\n",
       "      <td>France</td>\n",
       "    </tr>\n",
       "    <tr>\n",
       "      <th>541908</th>\n",
       "      <td>581587</td>\n",
       "      <td>22138</td>\n",
       "      <td>BAKING SET 9 PIECE RETROSPOT</td>\n",
       "      <td>3</td>\n",
       "      <td>9/12/2011 12:50</td>\n",
       "      <td>4.95</td>\n",
       "      <td>12680.0</td>\n",
       "      <td>France</td>\n",
       "    </tr>\n",
       "  </tbody>\n",
       "</table>\n",
       "<p>541909 rows × 8 columns</p>\n",
       "</div>"
      ],
      "text/plain": [
       "       InvoiceNo StockCode                          Description  Quantity  \\\n",
       "0         536365    85123A   WHITE HANGING HEART T-LIGHT HOLDER         6   \n",
       "1         536365     71053                  WHITE METAL LANTERN         6   \n",
       "2         536365    84406B       CREAM CUPID HEARTS COAT HANGER         8   \n",
       "3         536365    84029G  KNITTED UNION FLAG HOT WATER BOTTLE         6   \n",
       "4         536365    84029E       RED WOOLLY HOTTIE WHITE HEART.         6   \n",
       "...          ...       ...                                  ...       ...   \n",
       "541904    581587     22613          PACK OF 20 SPACEBOY NAPKINS        12   \n",
       "541905    581587     22899         CHILDREN'S APRON DOLLY GIRL          6   \n",
       "541906    581587     23254        CHILDRENS CUTLERY DOLLY GIRL          4   \n",
       "541907    581587     23255      CHILDRENS CUTLERY CIRCUS PARADE         4   \n",
       "541908    581587     22138        BAKING SET 9 PIECE RETROSPOT          3   \n",
       "\n",
       "            InvoiceDate  UnitPrice  CustomerID         Country  \n",
       "0        1/12/2010 8:26       2.55     17850.0  United Kingdom  \n",
       "1        1/12/2010 8:26       3.39     17850.0  United Kingdom  \n",
       "2        1/12/2010 8:26       2.75     17850.0  United Kingdom  \n",
       "3        1/12/2010 8:26       3.39     17850.0  United Kingdom  \n",
       "4        1/12/2010 8:26       3.39     17850.0  United Kingdom  \n",
       "...                 ...        ...         ...             ...  \n",
       "541904  9/12/2011 12:50       0.85     12680.0          France  \n",
       "541905  9/12/2011 12:50       2.10     12680.0          France  \n",
       "541906  9/12/2011 12:50       4.15     12680.0          France  \n",
       "541907  9/12/2011 12:50       4.15     12680.0          France  \n",
       "541908  9/12/2011 12:50       4.95     12680.0          France  \n",
       "\n",
       "[541909 rows x 8 columns]"
      ]
     },
     "execution_count": 2,
     "metadata": {},
     "output_type": "execute_result"
    }
   ],
   "source": [
    "df = pd.read_csv(\"Online_Retail.csv\")\n",
    "df"
   ]
  },
  {
   "cell_type": "markdown",
   "id": "9da0a4c3",
   "metadata": {},
   "source": [
    "## Data-Preprocessing"
   ]
  },
  {
   "cell_type": "code",
   "execution_count": 3,
   "id": "ef9eaf3a",
   "metadata": {
    "scrolled": true
   },
   "outputs": [
    {
     "name": "stdout",
     "output_type": "stream",
     "text": [
      "\n",
      "Sum of NA values in each column:\n",
      " InvoiceNo      0\n",
      "StockCode      0\n",
      "Description    0\n",
      "Quantity       0\n",
      "InvoiceDate    0\n",
      "UnitPrice      0\n",
      "CustomerID     0\n",
      "Country        0\n",
      "dtype: int64\n",
      "Class of each column:\n",
      "InvoiceNo       object\n",
      "StockCode       object\n",
      "Description     object\n",
      "Quantity         int64\n",
      "InvoiceDate     object\n",
      "UnitPrice      float64\n",
      "CustomerID     float64\n",
      "Country         object\n",
      "dtype: object\n"
     ]
    },
    {
     "name": "stderr",
     "output_type": "stream",
     "text": [
      "<ipython-input-3-2eb37cebf83b>:5: SettingWithCopyWarning: \n",
      "A value is trying to be set on a copy of a slice from a DataFrame\n",
      "\n",
      "See the caveats in the documentation: https://pandas.pydata.org/pandas-docs/stable/user_guide/indexing.html#returning-a-view-versus-a-copy\n",
      "  df.dropna(subset=['CustomerID'], inplace=True)\n"
     ]
    }
   ],
   "source": [
    "#Handling duplicate rows\n",
    "df=df.drop_duplicates()\n",
    "\n",
    "#Removing Empty rows with missing customerID\n",
    "df.dropna(subset=['CustomerID'], inplace=True)\n",
    "\n",
    "# Check for NA values\n",
    "na_values = df.isna()\n",
    "\n",
    "# Sum of NA values in each column\n",
    "na_values_sum = df.isna().sum()\n",
    "print(\"\\nSum of NA values in each column:\\n\", na_values_sum)\n",
    "\n",
    "# Ensuring proper data type for variables\n",
    "column_classes = df.dtypes\n",
    "\n",
    "print(\"Class of each column:\")\n",
    "print(column_classes)"
   ]
  },
  {
   "cell_type": "code",
   "execution_count": 4,
   "id": "2a8fd938",
   "metadata": {},
   "outputs": [
    {
     "name": "stderr",
     "output_type": "stream",
     "text": [
      "<ipython-input-4-c6020b123f78>:4: SettingWithCopyWarning: \n",
      "A value is trying to be set on a copy of a slice from a DataFrame.\n",
      "Try using .loc[row_indexer,col_indexer] = value instead\n",
      "\n",
      "See the caveats in the documentation: https://pandas.pydata.org/pandas-docs/stable/user_guide/indexing.html#returning-a-view-versus-a-copy\n",
      "  df['InvoiceDate'] = pd.to_datetime(df['InvoiceDate'])\n"
     ]
    }
   ],
   "source": [
    "#I only want the sales data from the latest year - 2011\n",
    "# Convert 'Date' column to datetime format\n",
    "# Convert 'InvoiceDate' column to datetime format\n",
    "df['InvoiceDate'] = pd.to_datetime(df['InvoiceDate'])\n",
    "\n",
    "# Filter rows for year 2011\n",
    "df_2011 = df[df['InvoiceDate'].dt.year == 2011]\n",
    "\n",
    "# Filter rows for year 2011 and include only positive values in Quantity\n",
    "df_2011 = df_2011[(df_2011['InvoiceDate'].dt.year == 2011) & (df_2011['Quantity'] > 0)]"
   ]
  },
  {
   "cell_type": "code",
   "execution_count": 5,
   "id": "b9423e67",
   "metadata": {},
   "outputs": [
    {
     "data": {
      "image/png": "[encoded data removed]",
      "text/plain": [
       "<Figure size 720x432 with 1 Axes>"
      ]
     },
     "metadata": {
      "needs_background": "light"
     },
     "output_type": "display_data"
    }
   ],
   "source": [
    "# Solving Outliers\n",
    "plt.figure(figsize=(10, 6))\n",
    "sns.scatterplot(x=df_2011.index, y=df_2011['Quantity'], color='blue', label='Quantity')\n",
    "\n",
    "# Fit and plot a linear regression line\n",
    "sns.regplot(x=df_2011.index, y=df_2011['Quantity'], scatter=False, color='red', label='Linear Fit')\n",
    "\n",
    "plt.title('Quantity with Best Fit Line')\n",
    "plt.xlabel('Index')\n",
    "plt.ylabel('Quantity')\n",
    "plt.legend()\n",
    "plt.grid(True)\n",
    "plt.show()"
   ]
  },
  {
   "cell_type": "code",
   "execution_count": 6,
   "id": "b01ccc64",
   "metadata": {},
   "outputs": [],
   "source": [
    "#Based on outlier analysis as well as business domain knowledge, we want to only analyse individual customers instead of whole sales buyers\n",
    "\n",
    "df_2011= df_2011[df_2011['Quantity'] <= 1000]"
   ]
  },
  {
   "cell_type": "markdown",
   "id": "499ebba1",
   "metadata": {},
   "source": [
    "### Connection to SQLite"
   ]
  },
  {
   "cell_type": "code",
   "execution_count": 7,
   "id": "852a0aef",
   "metadata": {},
   "outputs": [],
   "source": [
    "#Connection to SQLite database\n",
    "conn=sqlite3.connect('kai.db')\n",
    "df_2011.to_sql('CS_Table',conn,if_exists='replace')"
   ]
  },
  {
   "cell_type": "markdown",
   "id": "daa3ceb1",
   "metadata": {},
   "source": [
    "### What is the distribution of order values across all customers in 2011?"
   ]
  },
  {
   "cell_type": "code",
   "execution_count": 8,
   "id": "ff10cbe0",
   "metadata": {},
   "outputs": [
    {
     "name": "stdout",
     "output_type": "stream",
     "text": [
      "Purchase Distribution:\n",
      "        CustomerID StockCode  Quantity\n",
      "0          16308.0     16014      1000\n",
      "1          17553.0     62018      1000\n",
      "2          17949.0     21497      1000\n",
      "3          13848.0     16014      1000\n",
      "4          17949.0     22197      1000\n",
      "...            ...       ...       ...\n",
      "366960     12748.0     22721         1\n",
      "366961     12748.0     21351         1\n",
      "366962     12748.0     22698         1\n",
      "366963     12748.0     22567         1\n",
      "366964     12748.0     37500         1\n",
      "\n",
      "[366965 rows x 3 columns]\n"
     ]
    }
   ],
   "source": [
    "# Query the data from SQLite database\n",
    "query = 'SELECT CustomerID, StockCode, Quantity FROM CS_Table ORDER BY Quantity DESC;'\n",
    "\n",
    "order_distr = pd.read_sql(query, conn)\n",
    "\n",
    "# Display the queried DataFrame\n",
    "print(\"Purchase Distribution:\")\n",
    "print(order_distr)"
   ]
  },
  {
   "cell_type": "code",
   "execution_count": 9,
   "id": "a0656e3f",
   "metadata": {
    "scrolled": false
   },
   "outputs": [
    {
     "data": {
      "image/png": "[encoded data removed]",
      "text/plain": [
       "<Figure size 720x432 with 1 Axes>"
      ]
     },
     "metadata": {
      "needs_background": "light"
     },
     "output_type": "display_data"
    }
   ],
   "source": [
    "# Plotting using Seaborn\n",
    "plt.figure(figsize=(10, 6))\n",
    "ax = sns.histplot(order_distr['Quantity'], bins=20, kde=True, color='skyblue')\n",
    "\n",
    "# Find bin with highest frequency\n",
    "counts, bins, _ = ax.hist(order_distr['Quantity'], bins=20, color='skyblue', alpha=0.7)\n",
    "max_count_index = counts.argmax()\n",
    "max_bin = bins[max_count_index]\n",
    "\n",
    "# Annotate the bin with highest frequency\n",
    "plt.text(max_bin, counts.max() + 1, f'Max Frequency: {counts.max()}',\n",
    "         ha='center', va='bottom', fontsize=10, color='red')\n",
    "\n",
    "# Adding labels and title\n",
    "plt.title('Histogram of Order Quantity')\n",
    "plt.xlabel('Quantity')\n",
    "plt.ylabel('Frequency')\n",
    "\n",
    "plt.grid(True)\n",
    "plt.show()"
   ]
  },
  {
   "cell_type": "markdown",
   "id": "ec57458f",
   "metadata": {},
   "source": [
    "### How many unique products has each customer purchased in 2011?"
   ]
  },
  {
   "cell_type": "code",
   "execution_count": 10,
   "id": "2ad83c9c",
   "metadata": {
    "scrolled": true
   },
   "outputs": [
    {
     "name": "stdout",
     "output_type": "stream",
     "text": [
      "Unique Products Purchased:\n",
      "      CustomerID  UniqueProductsPurchased\n",
      "0        14911.0                     1746\n",
      "1        12748.0                     1602\n",
      "2        17841.0                     1293\n",
      "3        14096.0                     1119\n",
      "4        14298.0                      847\n",
      "...          ...                      ...\n",
      "4209     13068.0                        1\n",
      "4210     13017.0                        1\n",
      "4211     12908.0                        1\n",
      "4212     12875.0                        1\n",
      "4213     12823.0                        1\n",
      "\n",
      "[4214 rows x 2 columns]\n"
     ]
    }
   ],
   "source": [
    "query2 = 'SELECT CustomerID, COUNT(DISTINCT StockCode) AS UniqueProductsPurchased FROM CS_Table GROUP BY CustomerID ORDER BY UniqueProductsPurchased DESC;'\n",
    "unq_prod = pd.read_sql(query2, conn)\n",
    "\n",
    "# Display the queried DataFrame\n",
    "print(\"Unique Products Purchased:\")\n",
    "print(unq_prod)"
   ]
  },
  {
   "cell_type": "code",
   "execution_count": 11,
   "id": "28ed051a",
   "metadata": {
    "scrolled": false
   },
   "outputs": [
    {
     "data": {
      "image/png": "[encoded data removed]",
      "text/plain": [
       "<Figure size 720x432 with 1 Axes>"
      ]
     },
     "metadata": {
      "needs_background": "light"
     },
     "output_type": "display_data"
    }
   ],
   "source": [
    "# Plotting using Seaborn\n",
    "plt.figure(figsize=(10, 6))\n",
    "ax = sns.histplot(unq_prod['UniqueProductsPurchased'], bins=30, kde=True, color='teal')\n",
    "\n",
    "# Find bin with highest frequency\n",
    "counts, bins, _ = ax.hist(unq_prod['UniqueProductsPurchased'], bins=30, color='teal', alpha=0.7)\n",
    "max_count_index = counts.argmax()\n",
    "max_bin = bins[max_count_index]\n",
    "\n",
    "# Annotate the bin with highest frequency\n",
    "plt.text(max_bin, counts.max() + 1, f'Max Frequency: {counts.max()}',\n",
    "         ha='center', va='bottom', fontsize=10, color='red')\n",
    "\n",
    "# Adding labels and title\n",
    "plt.title('No. Of Unique Products Purchased')\n",
    "plt.xlabel('Quantity')\n",
    "plt.ylabel('Frequency')\n",
    "\n",
    "plt.grid(True)\n",
    "plt.show()"
   ]
  },
  {
   "cell_type": "markdown",
   "id": "d16fa200",
   "metadata": {},
   "source": [
    "### Which customers have only made a single purchase from the company?"
   ]
  },
  {
   "cell_type": "code",
   "execution_count": 12,
   "id": "0e1042ae",
   "metadata": {
    "scrolled": false
   },
   "outputs": [
    {
     "name": "stdout",
     "output_type": "stream",
     "text": [
      "Single Purchase:\n",
      "    CustomerID StockCode  NoOfOrders\n",
      "0      12875.0     17096           1\n",
      "1      13017.0     22112           1\n",
      "2      13099.0     21422           1\n",
      "3      13106.0     22456           1\n",
      "4      13120.0     82482           1\n",
      "..         ...       ...         ...\n",
      "64     18087.0         M           1\n",
      "65     18174.0    85099B           1\n",
      "66     18184.0     15036           1\n",
      "67     18233.0     22823           1\n",
      "68     18268.0    84968A           1\n",
      "\n",
      "[69 rows x 3 columns]\n"
     ]
    }
   ],
   "source": [
    "query3 = 'SELECT CustomerID, StockCode, COUNT(InvoiceNo) AS NoOfOrders FROM CS_Table GROUP BY CustomerID HAVING COUNT(InvoiceNo) = 1;'\n",
    "single_pur = pd.read_sql(query3, conn)\n",
    "\n",
    "# Display the queried DataFrame\n",
    "print(\"Single Purchase:\")\n",
    "print(single_pur)"
   ]
  },
  {
   "cell_type": "markdown",
   "id": "d9181c0e",
   "metadata": {},
   "source": [
    "### Which products are most commonly purchased together?"
   ]
  },
  {
   "cell_type": "code",
   "execution_count": 13,
   "id": "608d3085",
   "metadata": {
    "scrolled": true
   },
   "outputs": [
    {
     "name": "stdout",
     "output_type": "stream",
     "text": [
      "Top 10 Product Pairs:\n",
      "  Product1 Product2  Frequency\n",
      "0    22386   85099B        551\n",
      "1    22697    22699        532\n",
      "2    20725    22384        524\n",
      "3    20725    20727        521\n",
      "4    20725    22383        515\n",
      "5    22726    22727        489\n",
      "6    23203   85099B        479\n",
      "7    20727    22383        478\n",
      "8    23300    23301        475\n",
      "9    22697    22698        470\n"
     ]
    }
   ],
   "source": [
    "query4='WITH ProductPairs AS (SELECT t1.StockCode AS Product1,t2.StockCode AS Product2,COUNT(*) AS Frequency FROM CS_Table t1 JOIN CS_Table t2 ON t1.InvoiceNo = t2.InvoiceNo AND t1.StockCode < t2.StockCode WHERE t1.StockCode != t2.StockCode GROUP BY t1.StockCode, t2.StockCode)SELECT Product1,Product2,Frequency FROM ProductPairs ORDER BY Frequency DESC LIMIT 10;'\n",
    "prod_pairs = pd.read_sql(query4,conn)\n",
    "\n",
    "# Display the queried DataFrame\n",
    "print(\"Top 10 Product Pairs:\")\n",
    "print(prod_pairs)"
   ]
  },
  {
   "cell_type": "code",
   "execution_count": 14,
   "id": "90f47be6",
   "metadata": {},
   "outputs": [],
   "source": [
    "# Close the connection\n",
    "conn.close()"
   ]
  }
 ],
 "metadata": {
  "kernelspec": {
   "display_name": "Python 3",
   "language": "python",
   "name": "python3"
  },
  "language_info": {
   "codemirror_mode": {
    "name": "ipython",
    "version": 3
   },
   "file_extension": ".py",
   "mimetype": "text/x-python",
   "name": "python",
   "nbconvert_exporter": "python",
   "pygments_lexer": "ipython3",
   "version": "3.8.8"
  }
 },
 "nbformat": 4,
 "nbformat_minor": 5
}
